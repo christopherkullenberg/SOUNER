{
 "cells": [
  {
   "cell_type": "markdown",
   "metadata": {},
   "source": [
    "# SOUNER\n",
    "\n",
    "Perform NER on a text (here a SOU) and create an actor-network of the entities. \n",
    "\n",
    "### Requirements\n",
    "\n",
    "* Install SweNER, source is here: https://spraakbanken.gu.se/eng/personal/dimitrios#research\n",
    "* Computer connected to the Internet, for the gendercounter API. For offline usage and higher performance, install https://github.com/christopherkullenberg/gendercounter\n",
    "* Credit: Kokkinakis D., Niemi J., Hardwick S., Lindén K. and Borin L. (2014). *HFST-SweNER. A New NER Resource for Swedish. Proceedings of the 9th edition of the Language Resources and Evaluation Conference (LREC)*. Reykjavik, Iceland ([pdf](http://www.lrec-conf.org/proceedings/lrec2014/pdf/391_Paper.pdf)).\n"
   ]
  },
  {
   "cell_type": "code",
   "execution_count": 42,
   "metadata": {
    "collapsed": false
   },
   "outputs": [],
   "source": [
    "from subprocess import Popen, PIPE, STDOUT\n",
    "from bs4 import BeautifulSoup\n",
    "import json\n",
    "import requests\n",
    "from gexf import *\n",
    "import gendercounter\n",
    "import uuid\n",
    "\n",
    "'''\n",
    "Send these two files through the monad() function of the bottom of this notebook. \n",
    "  - Also, please change filename in the monad() function to prevent overwriting\n",
    "  - Also, please change the first string passed to the function createactornetwork() to prevent node collission\n",
    "'''\n",
    "#SOU files:\n",
    "#soufile = open('SOU 1933_22 - Förslag till lag om sterilisering av vissa sinnessjuka, sinnesslöa eller av annan rubbning av själsverksamheten lidande personer.txt', encoding='utf-8')\n",
    "#soufile = open('SOU 1978_23 - Växtförädling.txt', encoding='utf-8')\n",
    "#soufile = open('SOU 1989_73 - TV-politiken.txt', encoding='utf-8')\n",
    "soufile = open('SOU 1979_69 - Nya vyer.txt', encoding='utf-8')\n",
    "\n",
    "soulines = soufile.read()\n",
    "\n",
    "def sendtoswener(text):\n",
    "    '''\n",
    "    Input: A string. \n",
    "    Output: SweNER XML\n",
    "    '''\n",
    "    p = Popen(['hfst-swener'], stdout=PIPE, stdin=PIPE, stderr=STDOUT)    \n",
    "    swener_stdout = p.communicate(input=text.encode())[0]\n",
    "    return(swener_stdout.decode())\n",
    "\n",
    "def parseswenerxml(swenerxml):\n",
    "    '''\n",
    "    Input: Swener XML output. \n",
    "    Output: Dictionary with name as key and a tuple of 'sbt' \n",
    "    and 'type' as values.\n",
    "    '''\n",
    "    soup = BeautifulSoup(swenerxml, \"lxml\") #Change 'lxml' if other parser. \n",
    "    valuedict = {}\n",
    "    for p in soup.findAll(\"enamex\"):\n",
    "        name = \"\"\n",
    "        for x in p:\n",
    "            name = x\n",
    "        valuedict[name] = (p['sbt'], p['type'])        \n",
    "    return(valuedict)"
   ]
  },
  {
   "cell_type": "code",
   "execution_count": 43,
   "metadata": {
    "collapsed": false
   },
   "outputs": [],
   "source": [
    "def gendercounterAPI(name):\n",
    "    '''\n",
    "    Input: A Swedish name.\n",
    "    Output: A json-style dictionary - {'name': 'Anna', 'gender': 'female'}\n",
    "    '''\n",
    "    webcontent = requests.get('http://genuskollen.se/cgi-bin/api.py?name=' + name)\n",
    "    jsonobject = webcontent.json()\n",
    "    return(jsonobject)"
   ]
  },
  {
   "cell_type": "code",
   "execution_count": 44,
   "metadata": {
    "collapsed": false
   },
   "outputs": [
    {
     "name": "stdout",
     "output_type": "stream",
     "text": [
      "yes\n"
     ]
    }
   ],
   "source": [
    "if gendercounter.textinput(\"Adam\")[1][1] == 1:\n",
    "    print(\"yes\")\n",
    "#gendercounter.textinput(\"Eva\")"
   ]
  },
  {
   "cell_type": "code",
   "execution_count": 45,
   "metadata": {
    "collapsed": false
   },
   "outputs": [],
   "source": [
    "def createactornetwork(sourcetext, SwenerDict):\n",
    "    '''\n",
    "    Input: Name of source text as string\n",
    "           Dictionary string as key, tuple as value: {key: (value, value)}\n",
    "           Example: \n",
    "           {Anders Thelin, Svensk Handel.': ('HUM', 'PRS'), 'Staten': ('WAA', 'WRK')}\n",
    "    Output: Gendered humans. Dictionary of tuples and dictionaries: {(x,y): {key:value}}\n",
    "            Also prints descriptive statistics. \n",
    "    '''    \n",
    "    male = 0\n",
    "    female = 0\n",
    "    undetermined = 0\n",
    "    ORG = 0 \n",
    "    LOC = 0\n",
    "    WRK = 0\n",
    "    actornetwork = {}\n",
    "    #for key, value in parseswenerxml(sendtoswener(soulines)).items():\n",
    "    for key, value in SwenerDict.items():\n",
    "        if value[0] == \"HUM\":\n",
    "            name = key.split(' ')[0].capitalize()\n",
    "            #print(name)\n",
    "            if gendercounter.textinput(name)[0][1] == 1:\n",
    "                female += 1\n",
    "                gender = \"female\"\n",
    "            elif gendercounter.textinput(name)[1][1] == 1:\n",
    "                    male += 1\n",
    "                    gender = \"male\"\n",
    "            else:\n",
    "                undetermined += 1\n",
    "                gender = \"undetermined\"\n",
    "                #print(gender)\n",
    "            actornetwork[(key, gender)] = {sourcetext: \"source\"}\n",
    "        else:\n",
    "            actornetwork[(key, value[1])] = {sourcetext: \"source\"}\n",
    "            if value[1] == \"ORG\":\n",
    "                ORG += 1\n",
    "            elif value[1] == \"LOC\":\n",
    "                LOC += 1\n",
    "            elif value[1] == \"WRK\":\n",
    "                WRK += 1\n",
    "    print(\"Men: \" + str(male))\n",
    "    print(\"Women: \" + str(female))\n",
    "    print(\"Undetermined Human: \" + str(undetermined))\n",
    "    print(\"ORGanizations: \" + str(ORG))\n",
    "    print(\"LOCations: \" + str(LOC))\n",
    "    print(\"WRK: \" + str(WRK))       \n",
    "    return(actornetwork)"
   ]
  },
  {
   "cell_type": "code",
   "execution_count": null,
   "metadata": {
    "collapsed": true
   },
   "outputs": [],
   "source": []
  },
  {
   "cell_type": "code",
   "execution_count": 46,
   "metadata": {
    "collapsed": false
   },
   "outputs": [
    {
     "name": "stdout",
     "output_type": "stream",
     "text": [
      "Men: 25\n",
      "Women: 1\n",
      "Undetermined Human: 34\n",
      "ORGanizations: 73\n",
      "LOCations: 30\n",
      "WRK: 9\n",
      "Directed network undirected static  \n",
      "number of nodes : 176\n",
      "number of edges : 175\n"
     ]
    }
   ],
   "source": [
    "\n",
    "def monad(name, actornetwork):\n",
    "    # requires from gexf import *\n",
    "    '''\n",
    "    A monad is a \"point of view on all the other entities taken severally and\n",
    "    not as a totality\" (Latour 2012: 598).\n",
    "    Input: Name of network, Dictionary of tuples and dictionaries: {(x,y): {key:value}}\n",
    "           Example: (\"@BjorklundVictor\", \"person\"): {\"Finwire\": \"employer\"}\n",
    "    Output: Gexf network file with nodes, attributes and edges.\n",
    "    '''\n",
    "    gexf = Gexf(name, \"The whole is always smaller than its parts\")\n",
    "    graph = gexf.addGraph(\"undirected\", \"static\", \"Directed network\")\n",
    "    attribute_node = graph.addNodeAttribute(\"Type\", \"default_value\", \"string\") \n",
    "    edgecounter = ''\n",
    "    for key, value in actornetwork.items():\n",
    "        n = graph.addNode(key[0], key[0])\n",
    "        n.addAttribute(attribute_node, key[1])\n",
    "        for k, v in value.items():\n",
    "            m = graph.addNode(k, k)\n",
    "            m.addAttribute(attribute_node, v)\n",
    "            graph.addEdge(str(edgecounter), key[0], k)\n",
    "            edgecounter = uuid.uuid4().hex # Use a random ID to prevent collissions when merging. \n",
    "    output_file = open(\"1979_69.gexf\",\"wb\")\n",
    "    gexf.write(output_file)  \n",
    "\n",
    "monad(\"SOUTEST\", createactornetwork(\"1979_69\", parseswenerxml(sendtoswener(soulines))))"
   ]
  }
 ],
 "metadata": {
  "kernelspec": {
   "display_name": "IPython (Python 3)",
   "language": "python",
   "name": "python3"
  },
  "language_info": {
   "name": "python",
   "version": "3.5.2"
  }
 },
 "nbformat": 4,
 "nbformat_minor": 0
}
